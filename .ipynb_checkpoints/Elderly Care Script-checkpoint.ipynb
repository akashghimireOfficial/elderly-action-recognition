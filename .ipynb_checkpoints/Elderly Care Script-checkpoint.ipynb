{
 "cells": [
  {
   "cell_type": "code",
   "execution_count": null,
   "id": "10a38a85",
   "metadata": {},
   "outputs": [],
   "source": [
    "## Work in a new folder"
   ]
  },
  {
   "cell_type": "code",
   "execution_count": 1,
   "id": "616a152a",
   "metadata": {},
   "outputs": [],
   "source": [
    "import os \n",
    "import json\n",
    "import math\n",
    "import cv2 as cv\n",
    "from glob import glob\n",
    "\n"
   ]
  },
  {
   "cell_type": "code",
   "execution_count": 2,
   "id": "bc7d0852",
   "metadata": {},
   "outputs": [],
   "source": [
    "dire={'images':os.path.join('images'),\n",
    "     'labels':os.path.join('labels'),\n",
    "     'source':os.path.join('source_images3')}"
   ]
  },
  {
   "cell_type": "code",
   "execution_count": 3,
   "id": "49cc2ddd",
   "metadata": {
    "scrolled": true
   },
   "outputs": [
    {
     "name": "stdout",
     "output_type": "stream",
     "text": [
      "The path  source_images3 doesn't exist\n"
     ]
    }
   ],
   "source": [
    "for key,value in dire.items():\n",
    "    if not os.path.isdir(value):\n",
    "        print('The path ',value,\"doesn't exist\")\n",
    "        os.makedirs(value)"
   ]
  },
  {
   "cell_type": "code",
   "execution_count": 4,
   "id": "bdb2a702",
   "metadata": {},
   "outputs": [],
   "source": [
    "##The labels and images folder should contains folder containing folders of \n",
    "#images and thier respective json files in labels folder"
   ]
  },
  {
   "cell_type": "code",
   "execution_count": 4,
   "id": "f92a5a0c",
   "metadata": {},
   "outputs": [],
   "source": [
    "#This directory is for writing annotation files in txt format\n",
    "valid_images_dire=os.path.join(dire['source'],'valid_images.{}'.format('txt')).replace(\"\\\\\",\"/\")"
   ]
  },
  {
   "cell_type": "code",
   "execution_count": null,
   "id": "4a9ad553",
   "metadata": {},
   "outputs": [],
   "source": [
    "for folder in os.listdir(dire['images']):\n",
    "    json_folder_name=folder.split('.')[0]+'.json'\n",
    "    json_fullpath=os.path.join(dire['labels'],json_folder_name).replace(\"\\\\\",\"/\")\n",
    "    IMG_FPS=float(os.listdir(os.path.join(dire['images'],folder))[1].split('.')[0].split(\"_\")[-1])-float(os.listdir(os.path.join(dire['images'],folder))[0].split('.')[0].split(\"_\")[-1])\n",
    "    \n",
    "    with open(json_fullpath) as file:\n",
    "        data=json.load(file)\n",
    "    \n",
    "    fps=data['annotations']['fps']\n",
    "    start_frame=data['annotations']['object'][0]['startFrame']\n",
    "    end_frame=data['annotations']['object'][0]['endFrame']\n",
    "    img_startframe=math.floor(start_frame/(fps*IMG_FPS))\n",
    "    img_endframe=math.ceil(end_frame/(fps*IMG_FPS))\n",
    "    \n",
    "    with open(valid_images_dire,'a') as file:\n",
    "        file.write(folder)\n",
    "        file.write('\\n')\n",
    "        file.write('{} {}'.format(str(img_startframe),str(img_endframe)))\n",
    "        file.write('\\n')\n",
    "        file.write('\\n')\n",
    "        \n",
    "        \n",
    "    for n,img_dire in enumerate(glob(os.path.join(dire['images'],folder)+'/*.jpg')):\n",
    "        \n",
    "        img_dire=img_dire.replace(\"\\\\\",\"/\")\n",
    "        img=cv.imread(img_dire)\n",
    "        if type(img)==None:\n",
    "            continue\n",
    "        target_dire_folder=os.path.join(dire['source'],folder).replace(\"\\\\\",\"/\")\n",
    "        if not os.path.exists(target_dire_folder):\n",
    "            os.makedirs(target_dire_folder)\n",
    "        target_img_path=os.path.join(target_dire_folder,\"{:05d}.{}\".format(n,'jpg')).replace(\"\\\\\",\"/\") \n",
    "        \n",
    "        cv.imwrite(target_img_path,img)\n",
    "            \n",
    "    \n",
    "        \n",
    "        \n",
    "    "
   ]
  },
  {
   "cell_type": "code",
   "execution_count": null,
   "id": "b0a01dd3",
   "metadata": {},
   "outputs": [],
   "source": []
  }
 ],
 "metadata": {
  "kernelspec": {
   "display_name": "Python 3 (ipykernel)",
   "language": "python",
   "name": "python3"
  },
  "language_info": {
   "codemirror_mode": {
    "name": "ipython",
    "version": 3
   },
   "file_extension": ".py",
   "mimetype": "text/x-python",
   "name": "python",
   "nbconvert_exporter": "python",
   "pygments_lexer": "ipython3",
   "version": "3.9.7"
  }
 },
 "nbformat": 4,
 "nbformat_minor": 5
}
